{
 "cells": [
  {
   "cell_type": "markdown",
   "metadata": {},
   "source": [
    "# คุณสมบัติของช่องสัญญาณและผลกระทบที่เกิดกับสัญญาณ"
   ]
  },
  {
   "cell_type": "markdown",
   "metadata": {},
   "source": [
    "## วัตถุประสงค์\n",
    "1. เข้าใจคุณสมบัติของช่องสัญญาณแบบ low-pass channel และ band-pass channel\n",
    "1. เข้าใจผลที่เกิดขึ้นจากการส่งสัญญาณแบบดิจิทัลผ่านช่องสัญญาณแบบ low-pass และ band-pass\n",
    "1. เข้าใจความสัมพันธ์ระหว่างแบนด์วิธด์แบบดิจิทัลและแบบแอนะล็อก"
   ]
  },
  {
   "cell_type": "markdown",
   "metadata": {},
   "source": [
    "## การเตรียมตัว\n",
    "เรียกใช้โมดูล `sigproc` รวมถึงอิมพอร์ทชื่อ `bkp` ออกมาจากโมดูลเพื่อเรียกใช้งานไลบรารี Bokeh สำหรับสร้างกราฟโดยตรง"
   ]
  },
  {
   "cell_type": "code",
   "execution_count": null,
   "metadata": {},
   "outputs": [],
   "source": [
    "from sigproc import Signal,start_notebook\n",
    "bkp = start_notebook()\n",
    "\n",
    "# คอนฟิกสำหรับใช้กำหนดคุณสมบัติให้กราฟโดเมนเวลา\n",
    "TIME_FIG = dict(height=300,x_axis_label=\"Time (ms)\",y_axis_label=\"Voltage (V)\")\n",
    "TX_LINE = dict(color=\"blue\",line_width=3)\n",
    "RX_LINE = dict(color=\"red\",line_width=1)"
   ]
  },
  {
   "cell_type": "markdown",
   "metadata": {},
   "source": [
    "เตรียมฟังก์ชัน `create_ttl_signal` เพื่อสร้างสัญญาณดิจิทัลแบบ TTL ตามบิตเรทที่กำหนด"
   ]
  },
  {
   "cell_type": "code",
   "execution_count": null,
   "metadata": {
    "collapsed": true
   },
   "outputs": [],
   "source": [
    "def create_ttl_signal(data,bit_rate):\n",
    "    data = data.replace(\" \",\"\")\n",
    "    bit_interval = 1/bit_rate\n",
    "    sig = Signal(duration=len(data)/bit_rate)\n",
    "    for i,bit in enumerate(data):\n",
    "        level = {\"0\":0,\"1\":5}[bit]\n",
    "        sig.add_pulse(value=level,time=i*bit_interval,duration=bit_interval)\n",
    "    return sig"
   ]
  },
  {
   "cell_type": "markdown",
   "metadata": {},
   "source": [
    "## สร้างและวิเคราะห์สัญญาณดิจิทัล\n",
    "นำฟังก์ชัน `create_ttl_signal` มาทดลองสร้างสัญญาณ และแสดงสัญญาณที่ได้ในโดเมนเวลาและโดเมนความถี่"
   ]
  },
  {
   "cell_type": "code",
   "execution_count": null,
   "metadata": {},
   "outputs": [],
   "source": [
    "DATA = \"01010010\"\n",
    "BIT_RATE = 10  # bps\n",
    "\n",
    "s1 = create_ttl_signal(data=DATA,bit_rate=BIT_RATE)\n",
    "s1.plot_time()\n",
    "s1.plot_freq(fig_options=dict(x_range=(-20,1000))) # ซูมให้เห็นเฉพาะความถี่ไม่เกิน 1000 Hz"
   ]
  },
  {
   "cell_type": "markdown",
   "metadata": {},
   "source": [
    "สเปกตรัมความถี่ของสัญญาณแสดงให้เห็นคุณสมบัติที่สำคัญของสัญญาณแบบดิจิทัลดังนี้\n",
    "* พลังงานส่วนใหญ่กองอยู่ในย่านความถี่ต่ำ\n",
    "* ประกอบไปด้วยความถี่ทุกย่านตั้งแต่ศูนย์ไปถึงอนันต์"
   ]
  },
  {
   "cell_type": "markdown",
   "metadata": {},
   "source": [
    "## ช่องสัญญาณแบบ Low-Pass\n",
    "ช่องสัญญาณแบบ low-pass ยอมให้สัญญาณย่านความถี่ต่ำผ่านได้แต่ความถี่สูงผ่านไม่ได้\n",
    "<img src=\"pics/low-pass.png\">\n",
    "ลองนำสัญญาณ `s1` ข้างต้นมาวิเคราะห์ผลกระทบเมื่อถูกส่งผ่านช่องสัญญาณแบบ low-pass ที่กำหนดให้ความถี่สูงสุดที่ผ่านได้คือ `FMAX` จะเห็นได้ว่าสัญญาณที่มีความถี่สูงกว่าที่กำหนดไว้จะถูกกำจัดทิ้งทั้งหมด ซึ่งทำให้ได้สัญญาณในโดเมนเวลาที่เปลี่ยนไป (แสดงด้วยสีแดง ซ้อนทับกับสัญญาณดั้งเดิมที่เป็นสีน้ำเงิน)\n",
    "\n",
    "หมายเหตุ: ทดลองเปลี่ยนค่า `FMAX` และสังเกตรูปร่างของสัญญาณที่เปลี่ยนไปทั้งในโดเมนเวลาและโดเมนความถี่"
   ]
  },
  {
   "cell_type": "code",
   "execution_count": null,
   "metadata": {},
   "outputs": [],
   "source": [
    "FMAX = 100\n",
    "s1_lowpass = s1.copy()\n",
    "s1_lowpass.filter((0,FMAX))\n",
    "s1_lowpass.plot_freq(fig_options=dict(x_range=(-100,1000)))\n",
    "\n",
    "# สร้าง figure ด้วย Bokeh เพื่อให้พล็อตสัญญาณซ้อนทับลงไปบนกราฟเดียวกันได้\n",
    "fig = bkp.figure(**TIME_FIG)\n",
    "s1_lowpass.plot_time(fig,line_options=RX_LINE)\n",
    "s1.plot_time(fig,line_options=TX_LINE)\n",
    "fig.segment(0,0.5,1000,0.5,color=\"green\")  # แสดงขอบเขต TTL logic level 0\n",
    "fig.segment(0,2.7,1000,2.7,color=\"green\")  # แสดงขอบเขต TTL logic level 1\n",
    "bkp.show(fig)"
   ]
  },
  {
   "cell_type": "markdown",
   "metadata": {},
   "source": [
    "## ช่องสัญญาณแบบ Band-Pass\n",
    "ช่องสัญญาณแบบ band-pass ยอมให้สัญญาณผ่านได้เฉพาะย่านความถี่ที่กำหนด ความถี่ที่ต่ำเกินไปหรือสูงเกินไปไม่สามารถผ่านได้\n",
    "<img src=\"pics/band-pass.png\">\n",
    "ลองนำสัญญาณ `s1` เดิมมาวิเคราะห์ผลกระทบเมื่อถูกส่งผ่านช่องสัญญาณแบบ band-pass ที่จำกัดให้ความถี่ผ่านได้เพียงในย่าน `FMIN` ถึง `FMAX`"
   ]
  },
  {
   "cell_type": "code",
   "execution_count": null,
   "metadata": {},
   "outputs": [],
   "source": [
    "FMIN,FMAX = 50,100\n",
    "s1_bandpass = s1.copy()\n",
    "s1_bandpass.filter((FMIN,FMAX))\n",
    "s1_bandpass.plot_freq(fig_options=dict(x_range=(-100,1000)))\n",
    "\n",
    "# สร้าง figure ด้วย Bokeh เพื่อให้พล็อตสัญญาณซ้อนทับลงไปบนกราฟเดียวกันได้\n",
    "fig = bkp.figure(**TIME_FIG)\n",
    "s1_bandpass.plot_time(fig,line_options=RX_LINE)\n",
    "s1.plot_time(fig,line_options=TX_LINE)\n",
    "bkp.show(fig)"
   ]
  },
  {
   "cell_type": "markdown",
   "metadata": {},
   "source": [
    "เห็นได้ว่าสัญญาณดิจิทัลต้องการช่องสัญญาณแบบ low-pass และไม่สามารถส่งผ่านลงไปตรง ๆ ในช่องสัญญาณแบบ band-pass ได้"
   ]
  },
  {
   "cell_type": "markdown",
   "metadata": {},
   "source": [
    "## ความสัมพันธ์ระหว่างบิตเรทและแบนด์วิธด์\n",
    "Nyquist พิสูจน์ความสัมพันธ์ระหว่าง digital bandwidth (bitrate) และ analog bandwidth ดังสมการ\n",
    "\n",
    "$$bitrate = 2 \\times B \\times \\log_2(L)$$\n",
    "\n",
    "โดยที่\n",
    "* $bitrate$ แทนอัตราการส่งข้อมูลในหน่วยบิตต่อวินาที\n",
    "* $B$ แทนแบนด์วิธด์ของช่องสัญญาณในหน่วยเฮิร์ตซ์\n",
    "* $L$ แทนจำนวนระดับสัญญาณดิจิทัลที่เป็นไปได้ ซึ่งการส่งสัญญาณแบบ TTL มีค่า L=2 เนื่องจากใช้สัญญาณเพียงสองระดับคือ 0 โวลท์ และ 5 โวลท์\n",
    "\n",
    "ทดสอบทฤษฎีบทของ Nyquist กับโค้ดด้านล่าง โดยลองปรับเปลี่ยนข้อมูล `DATA` ให้อยู่ในรูปที่ใช้ความถี่ต่ำที่สุดและสูงที่สุด และปรับเปลี่ยน `BIT_RATE` และ `BANDWIDTH` เพื่อสังเกตผลกระทบที่เกิดขึ้นกับสัญญาณที่ฝั่งรับ"
   ]
  },
  {
   "cell_type": "code",
   "execution_count": null,
   "metadata": {},
   "outputs": [],
   "source": [
    "#DATA = \"1111 1111 1111 1111\" # ใช้ความถี่ต่ำที่สุด\n",
    "DATA = \"0101 0101 0101 0101\" # ใช้ความถี่สูงที่สุด\n",
    "#DATA = \"0000 1111 0101 0101\"\n",
    "BIT_RATE = 30\n",
    "BANDWIDTH = 15\n",
    "\n",
    "fig = bkp.figure(**TIME_FIG)\n",
    "\n",
    "s = create_ttl_signal(data=DATA,bit_rate=BIT_RATE)\n",
    "s.plot_time(fig=fig,line_options=TX_LINE)\n",
    "s.filter((0,BANDWIDTH))\n",
    "s.plot_time(fig=fig,line_options=RX_LINE)\n",
    "bkp.show(fig)"
   ]
  }
 ],
 "metadata": {
  "kernelspec": {
   "display_name": "Python 3.6",
   "language": "python",
   "name": "python-3.6"
  },
  "language_info": {
   "codemirror_mode": {
    "name": "ipython",
    "version": 3
   },
   "file_extension": ".py",
   "mimetype": "text/x-python",
   "name": "python",
   "nbconvert_exporter": "python",
   "pygments_lexer": "ipython3",
   "version": "3.6.0"
  }
 },
 "nbformat": 4,
 "nbformat_minor": 1
}
